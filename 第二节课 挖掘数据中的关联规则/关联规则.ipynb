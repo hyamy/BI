{
 "cells": [
  {
   "cell_type": "code",
   "execution_count": 1,
   "metadata": {},
   "outputs": [
    {
     "name": "stderr",
     "output_type": "stream",
     "text": [
      "/Users/huyao/.pyenv/versions/3.7-dev/envs/3.7/lib/python3.7/site-packages/pandas/compat/__init__.py:85: UserWarning: Could not import the lzma module. Your installed Python is incomplete. Attempting to use lzma compression will result in a RuntimeError.\n",
      "  warnings.warn(msg)\n",
      "/Users/huyao/.pyenv/versions/3.7-dev/envs/3.7/lib/python3.7/site-packages/pandas/compat/__init__.py:85: UserWarning: Could not import the lzma module. Your installed Python is incomplete. Attempting to use lzma compression will result in a RuntimeError.\n",
      "  warnings.warn(msg)\n"
     ]
    }
   ],
   "source": [
    "import pandas as pd"
   ]
  },
  {
   "cell_type": "code",
   "execution_count": 2,
   "metadata": {},
   "outputs": [],
   "source": [
    "import numpy as np"
   ]
  },
  {
   "cell_type": "code",
   "execution_count": 3,
   "metadata": {},
   "outputs": [],
   "source": [
    "from efficient_apriori import apriori"
   ]
  },
  {
   "cell_type": "code",
   "execution_count": 4,
   "metadata": {},
   "outputs": [],
   "source": [
    "data_set = pd.read_csv('Market_Basket_Optimisation.csv', header=None)"
   ]
  },
  {
   "cell_type": "code",
   "execution_count": 10,
   "metadata": {},
   "outputs": [
    {
     "name": "stdout",
     "output_type": "stream",
     "text": [
      "频繁项集： {1: {('salmon',): 319, ('honey',): 356, ('shrimp',): 536, ('energy drink',): 200, ('avocado',): 250, ('green tea',): 991, ('mineral water',): 1788, ('frozen smoothie',): 475, ('olive oil',): 494, ('low fat yogurt',): 574, ('almonds',): 153, ('vegetables mix',): 193, ('cottage cheese',): 239, ('yams',): 86, ('tomato juice',): 228, ('eggs',): 1348, ('meatballs',): 157, ('burgers',): 654, ('turkey',): 469, ('energy bar',): 203, ('whole wheat rice',): 439, ('milk',): 972, ('french fries',): 1282, ('whole wheat pasta',): 221, ('light cream',): 117, ('soup',): 379, ('spaghetti',): 1306, ('frozen vegetables',): 715, ('cookies',): 603, ('cooking oil',): 383, ('champagne',): 351, ('chocolate',): 1229, ('chicken',): 450, ('oil',): 173, ('fresh tuna',): 167, ('black tea',): 107, ('tomatoes',): 513, ('extra dark chocolate',): 90, ('protein bar',): 139, ('pasta',): 118, ('pepper',): 199, ('red wine',): 211, ('rice',): 141, ('body spray',): 86, ('ham',): 199, ('pancakes',): 713, ('grated cheese',): 393, ('white wine',): 124, ('parmesan cheese',): 149, ('fresh bread',): 323, ('escalope',): 595, ('ground beef',): 737, ('tomato sauce',): 106, ('magazines',): 82, ('herb & pepper',): 371, ('strawberries',): 160, ('cake',): 608, ('hot dogs',): 243, ('brownies',): 253, ('cereals',): 193, ('muffins',): 181, ('light mayo',): 204, ('gums',): 101, ('cider',): 79, ('yogurt cake',): 205, ('mint',): 131, ('butter',): 226, ('french wine',): 169, ('barbecue sauce',): 81, ('carrots',): 115, ('mushroom cream sauce',): 143, ('nonfat milk',): 78, ('eggplant',): 99, ('fromage blanc',): 102, ('melons',): 90}, 2: {('avocado', 'mineral water'): 87, ('frozen smoothie', 'green tea'): 84, ('frozen smoothie', 'mineral water'): 152, ('green tea', 'mineral water'): 233, ('green tea', 'shrimp'): 86, ('honey', 'mineral water'): 113, ('low fat yogurt', 'mineral water'): 180, ('mineral water', 'olive oil'): 207, ('mineral water', 'salmon'): 128, ('mineral water', 'shrimp'): 177, ('burgers', 'eggs'): 216, ('green tea', 'milk'): 132, ('milk', 'mineral water'): 360, ('milk', 'whole wheat rice'): 89, ('mineral water', 'whole wheat rice'): 151, ('frozen vegetables', 'green tea'): 108, ('frozen vegetables', 'spaghetti'): 209, ('green tea', 'spaghetti'): 199, ('burgers', 'mineral water'): 183, ('burgers', 'turkey'): 80, ('cooking oil', 'eggs'): 88, ('cooking oil', 'mineral water'): 151, ('eggs', 'mineral water'): 382, ('eggs', 'turkey'): 146, ('mineral water', 'turkey'): 144, ('chicken', 'chocolate'): 110, ('chocolate', 'cooking oil'): 102, ('chocolate', 'low fat yogurt'): 111, ('chocolate', 'shrimp'): 135, ('chicken', 'eggs'): 108, ('chicken', 'mineral water'): 171, ('chicken', 'spaghetti'): 129, ('eggs', 'spaghetti'): 274, ('eggs', 'tomatoes'): 92, ('mineral water', 'spaghetti'): 448, ('mineral water', 'tomatoes'): 183, ('salmon', 'spaghetti'): 101, ('spaghetti', 'tomatoes'): 157, ('spaghetti', 'turkey'): 124, ('french fries', 'milk'): 178, ('chocolate', 'eggs'): 249, ('eggs', 'shrimp'): 106, ('green tea', 'pancakes'): 123, ('mineral water', 'pancakes'): 253, ('pancakes', 'spaghetti'): 189, ('milk', 'soup'): 114, ('milk', 'spaghetti'): 266, ('soup', 'spaghetti'): 107, ('escalope', 'mineral water'): 128, ('escalope', 'spaghetti'): 105, ('frozen smoothie', 'milk'): 107, ('frozen smoothie', 'spaghetti'): 117, ('ground beef', 'milk'): 165, ('ground beef', 'mineral water'): 307, ('ground beef', 'spaghetti'): 294, ('chicken', 'french fries'): 83, ('chocolate', 'french fries'): 258, ('chocolate', 'mineral water'): 395, ('eggs', 'french fries'): 273, ('french fries', 'mineral water'): 253, ('frozen vegetables', 'mineral water'): 268, ('french fries', 'turkey'): 80, ('chocolate', 'frozen vegetables'): 172, ('mineral water', 'red wine'): 82, ('cake', 'mineral water'): 206, ('honey', 'spaghetti'): 89, ('spaghetti', 'whole wheat rice'): 106, ('french fries', 'green tea'): 214, ('french fries', 'pancakes'): 151, ('cereals', 'mineral water'): 77, ('burgers', 'green tea'): 131, ('chocolate', 'green tea'): 176, ('chocolate', 'spaghetti'): 294, ('escalope', 'french fries'): 123, ('chocolate', 'ground beef'): 173, ('chocolate', 'milk'): 241, ('chocolate', 'olive oil'): 123, ('chocolate', 'soup'): 76, ('chocolate', 'tomatoes'): 105, ('chocolate', 'turkey'): 85, ('frozen vegetables', 'ground beef'): 127, ('frozen vegetables', 'milk'): 177, ('frozen vegetables', 'olive oil'): 85, ('frozen vegetables', 'tomatoes'): 121, ('ground beef', 'olive oil'): 106, ('ground beef', 'tomatoes'): 88, ('milk', 'olive oil'): 128, ('milk', 'tomatoes'): 105, ('milk', 'turkey'): 85, ('mineral water', 'soup'): 173, ('olive oil', 'spaghetti'): 172, ('cookies', 'eggs'): 79, ('chicken', 'green tea'): 89, ('green tea', 'turkey'): 89, ('ground beef', 'herb & pepper'): 120, ('herb & pepper', 'mineral water'): 128, ('grated cheese', 'ground beef'): 85, ('grated cheese', 'mineral water'): 131, ('grated cheese', 'spaghetti'): 124, ('cake', 'eggs'): 143, ('cake', 'french fries'): 134, ('burgers', 'french fries'): 165, ('burgers', 'milk'): 134, ('burgers', 'spaghetti'): 161, ('french fries', 'spaghetti'): 207, ('eggs', 'herb & pepper'): 94, ('chocolate', 'frozen smoothie'): 112, ('french fries', 'low fat yogurt'): 100, ('eggs', 'olive oil'): 90, ('herb & pepper', 'spaghetti'): 122, ('shrimp', 'spaghetti'): 159, ('cookies', 'french fries'): 100, ('cookies', 'green tea'): 90, ('eggs', 'green tea'): 191, ('green tea', 'ground beef'): 111, ('burgers', 'chocolate'): 128, ('burgers', 'ground beef'): 90, ('eggs', 'ground beef'): 150, ('eggs', 'milk'): 231, ('milk', 'shrimp'): 132, ('champagne', 'chocolate'): 87, ('chocolate', 'escalope'): 132, ('fresh bread', 'mineral water'): 100, ('eggs', 'low fat yogurt'): 126, ('eggs', 'pancakes'): 163, ('french fries', 'grated cheese'): 78, ('burgers', 'frozen vegetables'): 79, ('burgers', 'pancakes'): 79, ('chocolate', 'pancakes'): 149, ('eggs', 'frozen vegetables'): 163, ('french fries', 'frozen vegetables'): 143, ('frozen vegetables', 'low fat yogurt'): 76, ('frozen vegetables', 'pancakes'): 101, ('frozen vegetables', 'shrimp'): 125, ('low fat yogurt', 'milk'): 99, ('low fat yogurt', 'spaghetti'): 114, ('milk', 'pancakes'): 124, ('pancakes', 'shrimp'): 79, ('cake', 'spaghetti'): 136, ('french fries', 'tomatoes'): 90, ('eggs', 'frozen smoothie'): 83, ('cake', 'chocolate'): 102, ('cake', 'milk'): 100, ('cooking oil', 'milk'): 86, ('cooking oil', 'spaghetti'): 119, ('red wine', 'spaghetti'): 77, ('ground beef', 'shrimp'): 86, ('chocolate', 'whole wheat rice'): 90, ('eggs', 'whole wheat rice'): 82, ('olive oil', 'pancakes'): 81, ('french fries', 'frozen smoothie'): 109, ('shrimp', 'tomatoes'): 84, ('ground beef', 'pancakes'): 109, ('eggs', 'escalope'): 83, ('chocolate', 'grated cheese'): 82, ('burgers', 'cake'): 86, ('cake', 'green tea'): 106, ('chocolate', 'salmon'): 80, ('chocolate', 'cookies'): 78, ('french fries', 'ground beef'): 104, ('french fries', 'whole wheat rice'): 79, ('green tea', 'tomatoes'): 92, ('cake', 'frozen vegetables'): 77, ('cake', 'pancakes'): 89, ('chicken', 'milk'): 111}, 3: {('eggs', 'mineral water', 'spaghetti'): 107, ('mineral water', 'pancakes', 'spaghetti'): 86, ('ground beef', 'milk', 'mineral water'): 83, ('ground beef', 'mineral water', 'spaghetti'): 128, ('milk', 'mineral water', 'spaghetti'): 118, ('chocolate', 'eggs', 'mineral water'): 101, ('frozen vegetables', 'mineral water', 'spaghetti'): 90, ('chocolate', 'ground beef', 'mineral water'): 82, ('chocolate', 'milk', 'mineral water'): 105, ('chocolate', 'milk', 'spaghetti'): 82, ('chocolate', 'mineral water', 'spaghetti'): 119, ('frozen vegetables', 'milk', 'mineral water'): 83, ('mineral water', 'olive oil', 'spaghetti'): 77, ('chocolate', 'eggs', 'spaghetti'): 79, ('eggs', 'ground beef', 'mineral water'): 76, ('eggs', 'milk', 'mineral water'): 98, ('french fries', 'mineral water', 'spaghetti'): 76}}\n",
      "关联规则： [{ground beef, milk} -> {mineral water}, {eggs, ground beef} -> {mineral water}]\n"
     ]
    }
   ],
   "source": [
    "transactions = []\n",
    "for i in range(0, data_set.shape[0]):\n",
    "    tmp = []\n",
    "    for j in range(0, data_set.shape[1]):\n",
    "        if str(data_set.values[i, j]) == 'nan':\n",
    "            continue\n",
    "        tmp.append(str(data_set.values[i, j]))\n",
    "    transactions.append(tmp)\n",
    "\n",
    "item_sets, rules = apriori(transactions, min_support=0.01, min_confidence=0.5)\n",
    "print('频繁项集：', item_sets)\n",
    "print('关联规则：', rules)"
   ]
  },
  {
   "cell_type": "code",
   "execution_count": null,
   "metadata": {},
   "outputs": [],
   "source": []
  }
 ],
 "metadata": {
  "kernelspec": {
   "display_name": "Python 3",
   "language": "python",
   "name": "python3"
  },
  "language_info": {
   "codemirror_mode": {
    "name": "ipython",
    "version": 3
   },
   "file_extension": ".py",
   "mimetype": "text/x-python",
   "name": "python",
   "nbconvert_exporter": "python",
   "pygments_lexer": "ipython3",
   "version": "3.7.6rc1+"
  }
 },
 "nbformat": 4,
 "nbformat_minor": 4
}
